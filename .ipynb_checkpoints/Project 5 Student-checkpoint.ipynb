{
 "cells": [
  {
   "cell_type": "markdown",
   "metadata": {},
   "source": [
    "## [Computational Social Science] Project 5: Natural Language Processing"
   ]
  },
  {
   "cell_type": "markdown",
   "metadata": {},
   "source": [
    "In this project, you will use natural language processing techniques to explore a dataset containing tweets from members of the 116th United States Congress that met from January 3, 2019 to January 2, 2021. The dataset has also been cleaned to contain information about each legislator. Concretely, you will do the following:\n",
    "\n",
    "* Preprocess the text of legislators' tweets\n",
    "* Conduct Exploratory Data Analysis of the text\n",
    "* Use sentiment analysis to explore differences between legislators' tweets\n",
    "* Featurize text with manual feature engineering, frequency-based, and vector-based techniques\n",
    "* Predict legislators' political parties and whether they are a Senator or Representative\n",
    "\n",
    "You will explore two questions that relate to two central findings in political science and examine how they relate to the text of legislators' tweets. First, political scientists have argued that U.S. politics is currently highly polarized relative to other periods in American history, but also that the polarization is asymmetric. Historically, there were several conservative Democrats (i.e. \"blue dog Democrats\") and liberal Republicans (i.e. \"Rockefeller Republicans\"), as measured by popular measurement tools like [DW-NOMINATE](https://en.wikipedia.org/wiki/NOMINATE_(scaling_method)#:~:text=DW\\%2DNOMINATE\\%20scores\\%20have\\%20been,in\\%20the\\%20liberal\\%2Dconservative\\%20scale.). However, in the last few years, there are few if any examples of any Democrat in Congress being further to the right than any Republican and vice versa. At the same time, scholars have argued that this polarization is mostly a function of the Republican party moving further right than the Democratic party has moved left. **Does this sort of asymmetric polarization show up in how politicians communicate to their constituents through tweets?**\n",
    "\n",
    "Second, the U.S. Congress is a bicameral legislature, and there has long been debate about partisanship in the Senate versus the House. The House of Representatives is apportioned by population and all members serve two year terms. In the Senate, each state receives two Senators and each Senator serves a term of six years. For a variety of reasons (smaller chamber size, more insulation from the voters, rules and norms like the filibuster, etc.), the Senate has been argued to be the \"cooling saucer\" of Congress in that it is more bipartisan and moderate than the House. **Does the theory that the Senate is more moderate have support in Senators' tweets?**\n",
    "\n",
    "**Note**: See the project handout for more details on caveats and the data dictionary."
   ]
  },
  {
   "cell_type": "code",
   "execution_count": 1,
   "metadata": {},
   "outputs": [],
   "source": [
    "# pandas and numpy\n",
    "import pandas as pd\n",
    "import numpy as np\n",
    "\n",
    "# punctuation, stop words and English language model\n",
    "from string import punctuation\n",
    "from spacy.lang.en.stop_words import STOP_WORDS\n",
    "import en_core_web_sm\n",
    "nlp = en_core_web_sm.load()\n",
    "\n",
    "# textblob\n",
    "from textblob import TextBlob\n",
    "\n",
    "# countvectorizer, tfidfvectorizer\n",
    "from sklearn.feature_extraction.text import CountVectorizer, TfidfVectorizer\n",
    "\n",
    "# gensim\n",
    "import gensim\n",
    "from gensim import models\n",
    "\n",
    "# plotting\n",
    "import matplotlib.pyplot as plt\n",
    "import seaborn as sns\n",
    "%matplotlib inline\n",
    "\n",
    "#wordcloud\n",
    "from wordcloud import WordCloud, STOPWORDS, ImageColorGenerator\n",
    "from textblob import TextBlob\n",
    "\n",
    "# LDA \n",
    "from sklearn.decomposition import LatentDirichletAllocation\n",
    "\n",
    "#set seed\n",
    "import random\n",
    "random.seed(10)\n"
   ]
  },
  {
   "cell_type": "code",
   "execution_count": 2,
   "metadata": {},
   "outputs": [
    {
     "data": {
      "text/html": [
       "<div>\n",
       "<style scoped>\n",
       "    .dataframe tbody tr th:only-of-type {\n",
       "        vertical-align: middle;\n",
       "    }\n",
       "\n",
       "    .dataframe tbody tr th {\n",
       "        vertical-align: top;\n",
       "    }\n",
       "\n",
       "    .dataframe thead th {\n",
       "        text-align: right;\n",
       "    }\n",
       "</style>\n",
       "<table border=\"1\" class=\"dataframe\">\n",
       "  <thead>\n",
       "    <tr style=\"text-align: right;\">\n",
       "      <th></th>\n",
       "      <th>tweet_id</th>\n",
       "      <th>screen_name</th>\n",
       "      <th>datetime</th>\n",
       "      <th>text</th>\n",
       "      <th>name_wikipedia</th>\n",
       "      <th>position</th>\n",
       "      <th>joined_congress_date</th>\n",
       "      <th>birthday</th>\n",
       "      <th>gender</th>\n",
       "      <th>state</th>\n",
       "      <th>district_number</th>\n",
       "      <th>party</th>\n",
       "      <th>trump_2016_state_share</th>\n",
       "      <th>clinton_2016_state_share</th>\n",
       "      <th>obama_2012_state_share</th>\n",
       "      <th>romney_2012_state_share</th>\n",
       "    </tr>\n",
       "  </thead>\n",
       "  <tbody>\n",
       "    <tr>\n",
       "      <th>0</th>\n",
       "      <td>1.126580e+18</td>\n",
       "      <td>RepValDemings</td>\n",
       "      <td>2019-05-09T16:06:55-04:00</td>\n",
       "      <td>The #1 visitor destination in the country. Tha...</td>\n",
       "      <td>Val Demings</td>\n",
       "      <td>Rep</td>\n",
       "      <td>3-Jan-17</td>\n",
       "      <td>3/12/1957</td>\n",
       "      <td>F</td>\n",
       "      <td>FL</td>\n",
       "      <td>10</td>\n",
       "      <td>Democrat</td>\n",
       "      <td>4,617,886</td>\n",
       "      <td>4,504,975</td>\n",
       "      <td>4,237,756</td>\n",
       "      <td>4,163,447</td>\n",
       "    </tr>\n",
       "    <tr>\n",
       "      <th>1</th>\n",
       "      <td>1.227640e+18</td>\n",
       "      <td>RepSpeier</td>\n",
       "      <td>2020-02-12T11:58:13-05:00</td>\n",
       "      <td>Proud to host a press conference with our amaz...</td>\n",
       "      <td>Jackie Speier</td>\n",
       "      <td>Rep</td>\n",
       "      <td>3-Jan-13</td>\n",
       "      <td>5/14/1950</td>\n",
       "      <td>F</td>\n",
       "      <td>CA</td>\n",
       "      <td>14</td>\n",
       "      <td>Democrat</td>\n",
       "      <td>4,483,814</td>\n",
       "      <td>8,753,792</td>\n",
       "      <td>7,854,285</td>\n",
       "      <td>4,839,958</td>\n",
       "    </tr>\n",
       "    <tr>\n",
       "      <th>2</th>\n",
       "      <td>1.136060e+18</td>\n",
       "      <td>RepDWStweets</td>\n",
       "      <td>2019-06-04T19:40:03-04:00</td>\n",
       "      <td>RT @HispanicCaucus That moment when #HR6, the ...</td>\n",
       "      <td>Debbie Wasserman Schultz</td>\n",
       "      <td>Rep</td>\n",
       "      <td>3-Jan-05</td>\n",
       "      <td>9/27/1966</td>\n",
       "      <td>F</td>\n",
       "      <td>FL</td>\n",
       "      <td>23</td>\n",
       "      <td>Democrat</td>\n",
       "      <td>4,617,886</td>\n",
       "      <td>4,504,975</td>\n",
       "      <td>4,237,756</td>\n",
       "      <td>4,163,447</td>\n",
       "    </tr>\n",
       "    <tr>\n",
       "      <th>3</th>\n",
       "      <td>1.208600e+18</td>\n",
       "      <td>RepAndyLevin</td>\n",
       "      <td>2019-12-21T23:00:44-05:00</td>\n",
       "      <td>As disturbing as the Modi regime’s various eff...</td>\n",
       "      <td>Andy Levin</td>\n",
       "      <td>Rep</td>\n",
       "      <td>3-Jan-19</td>\n",
       "      <td>8/1/1960</td>\n",
       "      <td>M</td>\n",
       "      <td>MI</td>\n",
       "      <td>9</td>\n",
       "      <td>Democrat</td>\n",
       "      <td>2,279,543</td>\n",
       "      <td>2,268,839</td>\n",
       "      <td>2,564,569</td>\n",
       "      <td>2,115,256</td>\n",
       "    </tr>\n",
       "    <tr>\n",
       "      <th>4</th>\n",
       "      <td>1.293920e+18</td>\n",
       "      <td>RepLoisFrankel</td>\n",
       "      <td>2020-08-13T10:35:51-04:00</td>\n",
       "      <td>RT @RepDWStweets Whether you choose to cast yo...</td>\n",
       "      <td>Lois Frankel</td>\n",
       "      <td>Rep</td>\n",
       "      <td>3-Jan-13</td>\n",
       "      <td>5/16/1948</td>\n",
       "      <td>F</td>\n",
       "      <td>FL</td>\n",
       "      <td>21</td>\n",
       "      <td>Democrat</td>\n",
       "      <td>4,617,886</td>\n",
       "      <td>4,504,975</td>\n",
       "      <td>4,237,756</td>\n",
       "      <td>4,163,447</td>\n",
       "    </tr>\n",
       "  </tbody>\n",
       "</table>\n",
       "</div>"
      ],
      "text/plain": [
       "       tweet_id     screen_name                   datetime  \\\n",
       "0  1.126580e+18   RepValDemings  2019-05-09T16:06:55-04:00   \n",
       "1  1.227640e+18       RepSpeier  2020-02-12T11:58:13-05:00   \n",
       "2  1.136060e+18    RepDWStweets  2019-06-04T19:40:03-04:00   \n",
       "3  1.208600e+18    RepAndyLevin  2019-12-21T23:00:44-05:00   \n",
       "4  1.293920e+18  RepLoisFrankel  2020-08-13T10:35:51-04:00   \n",
       "\n",
       "                                                text  \\\n",
       "0  The #1 visitor destination in the country. Tha...   \n",
       "1  Proud to host a press conference with our amaz...   \n",
       "2  RT @HispanicCaucus That moment when #HR6, the ...   \n",
       "3  As disturbing as the Modi regime’s various eff...   \n",
       "4  RT @RepDWStweets Whether you choose to cast yo...   \n",
       "\n",
       "             name_wikipedia position joined_congress_date   birthday gender  \\\n",
       "0               Val Demings      Rep             3-Jan-17  3/12/1957      F   \n",
       "1             Jackie Speier      Rep             3-Jan-13  5/14/1950      F   \n",
       "2  Debbie Wasserman Schultz      Rep             3-Jan-05  9/27/1966      F   \n",
       "3                Andy Levin      Rep             3-Jan-19   8/1/1960      M   \n",
       "4              Lois Frankel      Rep             3-Jan-13  5/16/1948      F   \n",
       "\n",
       "  state district_number     party trump_2016_state_share  \\\n",
       "0    FL              10  Democrat              4,617,886   \n",
       "1    CA              14  Democrat              4,483,814   \n",
       "2    FL              23  Democrat              4,617,886   \n",
       "3    MI               9  Democrat              2,279,543   \n",
       "4    FL              21  Democrat              4,617,886   \n",
       "\n",
       "  clinton_2016_state_share obama_2012_state_share romney_2012_state_share  \n",
       "0                4,504,975              4,237,756               4,163,447  \n",
       "1                8,753,792              7,854,285               4,839,958  \n",
       "2                4,504,975              4,237,756               4,163,447  \n",
       "3                2,268,839              2,564,569               2,115,256  \n",
       "4                4,504,975              4,237,756               4,163,447  "
      ]
     },
     "execution_count": 2,
     "metadata": {},
     "output_type": "execute_result"
    }
   ],
   "source": [
    "congress_tweets = pd.read_csv(\"data/116th Congressional Tweets and Demographics.csv\")\n",
    "# fill in this line of code with a sufficient number of tweets, depending on your computational resources\n",
    "congress_tweets = congress_tweets.sample(5000).reset_index(drop = True) #I added \".reset_index to start everything at 0\"\n",
    "congress_tweets.head()"
   ]
  },
  {
   "cell_type": "markdown",
   "metadata": {},
   "source": [
    "## Preprocessing"
   ]
  },
  {
   "cell_type": "markdown",
   "metadata": {},
   "source": [
    "The first step in working with text data is to preprocess it. Make sure you do the following:\n",
    "\n",
    "* Remove punctuation and stop words. The `rem_punc_stop()` function we used in lab is provided to you but you should feel free to edit it as necessary for other steps\n",
    "* Remove tokens that occur frequently in tweets, but may not be helpful for downstream classification. For instance, many tweets contain a flag for retweeting, or share a URL \n",
    "\n",
    "As you search online, you might run into solutions that rely on regular expressions. You are free to use these, but you should also be able to preprocess using the techniques we covered in lab. Specifically, we encourage you to use spaCy's token attributes and string methods to do some of this text preprocessing."
   ]
  },
  {
   "cell_type": "code",
   "execution_count": 3,
   "metadata": {},
   "outputs": [],
   "source": [
    "def rem_punc_stop(text):\n",
    "    stop_words = STOP_WORDS\n",
    "    nlp.Defaults.stop_words.add(\"today\")\n",
    "    nlp.Defaults.stop_words.add(\"amp\")\n",
    "    nlp.Defaults.stop_words.add(\"rt\")\n",
    "    nlp.Defaults.stop_words.add(\"qt\")\n",
    "    nlp.Defaults.stop_words.add(\"need\")\n",
    "    nlp.Defaults.stop_words.add(\" \")\n",
    "    nlp.Defaults.stop_words.add(\"\\n\")\n",
    "    nlp.Defaults.stop_words.add(\"\\n\\n\")\n",
    "    nlp.Defaults.stop_words.add(\"\\n \\n\")\n",
    "    nlp.Defaults.stop_words.add(\"1\")\n",
    "    \n",
    "    punc = set(punctuation)\n",
    "    \n",
    "    punc_free = \"\".join([ch for ch in text if ch not in punc])\n",
    "    \n",
    "    doc = nlp(punc_free)\n",
    "    \n",
    "    spacy_words = [token.text for token in doc]\n",
    "    \n",
    "    spacy_words = [token.text.lower() for token in doc] #I added this to get everything in lowercase\n",
    "    \n",
    "    spacy_words = [word for word in spacy_words if not word.startswith('http')]\n",
    "    \n",
    "    no_punc = [word for word in spacy_words if word not in stop_words]\n",
    "    \n",
    "    return no_punc"
   ]
  },
  {
   "cell_type": "code",
   "execution_count": 4,
   "metadata": {},
   "outputs": [],
   "source": [
    "#Making sure the text column doesn't have NAs\n",
    "congress_tweets = congress_tweets.dropna(subset = ['text'])\n",
    "\n",
    "#Using the function above to tokenize\n",
    "congress_tweets['tokens']= congress_tweets['text'].map(lambda x: rem_punc_stop(x))"
   ]
  },
  {
   "cell_type": "code",
   "execution_count": 5,
   "metadata": {
    "scrolled": true
   },
   "outputs": [
    {
     "data": {
      "text/html": [
       "<div>\n",
       "<style scoped>\n",
       "    .dataframe tbody tr th:only-of-type {\n",
       "        vertical-align: middle;\n",
       "    }\n",
       "\n",
       "    .dataframe tbody tr th {\n",
       "        vertical-align: top;\n",
       "    }\n",
       "\n",
       "    .dataframe thead th {\n",
       "        text-align: right;\n",
       "    }\n",
       "</style>\n",
       "<table border=\"1\" class=\"dataframe\">\n",
       "  <thead>\n",
       "    <tr style=\"text-align: right;\">\n",
       "      <th></th>\n",
       "      <th>tweet_id</th>\n",
       "      <th>screen_name</th>\n",
       "      <th>datetime</th>\n",
       "      <th>text</th>\n",
       "      <th>name_wikipedia</th>\n",
       "      <th>position</th>\n",
       "      <th>joined_congress_date</th>\n",
       "      <th>birthday</th>\n",
       "      <th>gender</th>\n",
       "      <th>state</th>\n",
       "      <th>district_number</th>\n",
       "      <th>party</th>\n",
       "      <th>trump_2016_state_share</th>\n",
       "      <th>clinton_2016_state_share</th>\n",
       "      <th>obama_2012_state_share</th>\n",
       "      <th>romney_2012_state_share</th>\n",
       "      <th>tokens</th>\n",
       "    </tr>\n",
       "  </thead>\n",
       "  <tbody>\n",
       "    <tr>\n",
       "      <th>0</th>\n",
       "      <td>1.126580e+18</td>\n",
       "      <td>RepValDemings</td>\n",
       "      <td>2019-05-09T16:06:55-04:00</td>\n",
       "      <td>The #1 visitor destination in the country. Tha...</td>\n",
       "      <td>Val Demings</td>\n",
       "      <td>Rep</td>\n",
       "      <td>3-Jan-17</td>\n",
       "      <td>3/12/1957</td>\n",
       "      <td>F</td>\n",
       "      <td>FL</td>\n",
       "      <td>10</td>\n",
       "      <td>Democrat</td>\n",
       "      <td>4,617,886</td>\n",
       "      <td>4,504,975</td>\n",
       "      <td>4,237,756</td>\n",
       "      <td>4,163,447</td>\n",
       "      <td>[visitor, destination, country, accident, prou...</td>\n",
       "    </tr>\n",
       "    <tr>\n",
       "      <th>1</th>\n",
       "      <td>1.227640e+18</td>\n",
       "      <td>RepSpeier</td>\n",
       "      <td>2020-02-12T11:58:13-05:00</td>\n",
       "      <td>Proud to host a press conference with our amaz...</td>\n",
       "      <td>Jackie Speier</td>\n",
       "      <td>Rep</td>\n",
       "      <td>3-Jan-13</td>\n",
       "      <td>5/14/1950</td>\n",
       "      <td>F</td>\n",
       "      <td>CA</td>\n",
       "      <td>14</td>\n",
       "      <td>Democrat</td>\n",
       "      <td>4,483,814</td>\n",
       "      <td>8,753,792</td>\n",
       "      <td>7,854,285</td>\n",
       "      <td>4,839,958</td>\n",
       "      <td>[proud, host, press, conference, amazing, ⁦spe...</td>\n",
       "    </tr>\n",
       "    <tr>\n",
       "      <th>2</th>\n",
       "      <td>1.136060e+18</td>\n",
       "      <td>RepDWStweets</td>\n",
       "      <td>2019-06-04T19:40:03-04:00</td>\n",
       "      <td>RT @HispanicCaucus That moment when #HR6, the ...</td>\n",
       "      <td>Debbie Wasserman Schultz</td>\n",
       "      <td>Rep</td>\n",
       "      <td>3-Jan-05</td>\n",
       "      <td>9/27/1966</td>\n",
       "      <td>F</td>\n",
       "      <td>FL</td>\n",
       "      <td>23</td>\n",
       "      <td>Democrat</td>\n",
       "      <td>4,617,886</td>\n",
       "      <td>4,504,975</td>\n",
       "      <td>4,237,756</td>\n",
       "      <td>4,163,447</td>\n",
       "      <td>[hispaniccaucus, moment, hr6, dreamandpromisea...</td>\n",
       "    </tr>\n",
       "    <tr>\n",
       "      <th>3</th>\n",
       "      <td>1.208600e+18</td>\n",
       "      <td>RepAndyLevin</td>\n",
       "      <td>2019-12-21T23:00:44-05:00</td>\n",
       "      <td>As disturbing as the Modi regime’s various eff...</td>\n",
       "      <td>Andy Levin</td>\n",
       "      <td>Rep</td>\n",
       "      <td>3-Jan-19</td>\n",
       "      <td>8/1/1960</td>\n",
       "      <td>M</td>\n",
       "      <td>MI</td>\n",
       "      <td>9</td>\n",
       "      <td>Democrat</td>\n",
       "      <td>2,279,543</td>\n",
       "      <td>2,268,839</td>\n",
       "      <td>2,564,569</td>\n",
       "      <td>2,115,256</td>\n",
       "      <td>[disturbing, modi, regime, efforts, establish,...</td>\n",
       "    </tr>\n",
       "    <tr>\n",
       "      <th>4</th>\n",
       "      <td>1.293920e+18</td>\n",
       "      <td>RepLoisFrankel</td>\n",
       "      <td>2020-08-13T10:35:51-04:00</td>\n",
       "      <td>RT @RepDWStweets Whether you choose to cast yo...</td>\n",
       "      <td>Lois Frankel</td>\n",
       "      <td>Rep</td>\n",
       "      <td>3-Jan-13</td>\n",
       "      <td>5/16/1948</td>\n",
       "      <td>F</td>\n",
       "      <td>FL</td>\n",
       "      <td>21</td>\n",
       "      <td>Democrat</td>\n",
       "      <td>4,617,886</td>\n",
       "      <td>4,504,975</td>\n",
       "      <td>4,237,756</td>\n",
       "      <td>4,163,447</td>\n",
       "      <td>[repdwstweets, choose, cast, ballot, mail, per...</td>\n",
       "    </tr>\n",
       "  </tbody>\n",
       "</table>\n",
       "</div>"
      ],
      "text/plain": [
       "       tweet_id     screen_name                   datetime  \\\n",
       "0  1.126580e+18   RepValDemings  2019-05-09T16:06:55-04:00   \n",
       "1  1.227640e+18       RepSpeier  2020-02-12T11:58:13-05:00   \n",
       "2  1.136060e+18    RepDWStweets  2019-06-04T19:40:03-04:00   \n",
       "3  1.208600e+18    RepAndyLevin  2019-12-21T23:00:44-05:00   \n",
       "4  1.293920e+18  RepLoisFrankel  2020-08-13T10:35:51-04:00   \n",
       "\n",
       "                                                text  \\\n",
       "0  The #1 visitor destination in the country. Tha...   \n",
       "1  Proud to host a press conference with our amaz...   \n",
       "2  RT @HispanicCaucus That moment when #HR6, the ...   \n",
       "3  As disturbing as the Modi regime’s various eff...   \n",
       "4  RT @RepDWStweets Whether you choose to cast yo...   \n",
       "\n",
       "             name_wikipedia position joined_congress_date   birthday gender  \\\n",
       "0               Val Demings      Rep             3-Jan-17  3/12/1957      F   \n",
       "1             Jackie Speier      Rep             3-Jan-13  5/14/1950      F   \n",
       "2  Debbie Wasserman Schultz      Rep             3-Jan-05  9/27/1966      F   \n",
       "3                Andy Levin      Rep             3-Jan-19   8/1/1960      M   \n",
       "4              Lois Frankel      Rep             3-Jan-13  5/16/1948      F   \n",
       "\n",
       "  state district_number     party trump_2016_state_share  \\\n",
       "0    FL              10  Democrat              4,617,886   \n",
       "1    CA              14  Democrat              4,483,814   \n",
       "2    FL              23  Democrat              4,617,886   \n",
       "3    MI               9  Democrat              2,279,543   \n",
       "4    FL              21  Democrat              4,617,886   \n",
       "\n",
       "  clinton_2016_state_share obama_2012_state_share romney_2012_state_share  \\\n",
       "0                4,504,975              4,237,756               4,163,447   \n",
       "1                8,753,792              7,854,285               4,839,958   \n",
       "2                4,504,975              4,237,756               4,163,447   \n",
       "3                2,268,839              2,564,569               2,115,256   \n",
       "4                4,504,975              4,237,756               4,163,447   \n",
       "\n",
       "                                              tokens  \n",
       "0  [visitor, destination, country, accident, prou...  \n",
       "1  [proud, host, press, conference, amazing, ⁦spe...  \n",
       "2  [hispaniccaucus, moment, hr6, dreamandpromisea...  \n",
       "3  [disturbing, modi, regime, efforts, establish,...  \n",
       "4  [repdwstweets, choose, cast, ballot, mail, per...  "
      ]
     },
     "execution_count": 5,
     "metadata": {},
     "output_type": "execute_result"
    }
   ],
   "source": [
    "congress_tweets.head()"
   ]
  },
  {
   "cell_type": "markdown",
   "metadata": {},
   "source": [
    "## Exploratory Data Analysis"
   ]
  },
  {
   "cell_type": "markdown",
   "metadata": {},
   "source": [
    "Use two of the techniques we covered in lab (or other techniques outside of lab!) to explore the text of the tweets. You should construct these visualizations with an eye toward the eventual classification tasks: (1) predicting the legislator's political party based on the text of their tweet, and (2) predicting whether the legislator is a Senator or Representative. As a reminder, in lab we covered word frequencies, word clouds, word/character counts, scattertext, and topic modeling as possible exploration tools. "
   ]
  },
  {
   "cell_type": "markdown",
   "metadata": {},
   "source": [
    "### EDA 1 : Word Cloud"
   ]
  },
  {
   "cell_type": "code",
   "execution_count": 6,
   "metadata": {},
   "outputs": [],
   "source": [
    "#Use word cloud to visualize most frequent words used dependeing on party affiliation or position\n",
    "dem=congress_tweets[congress_tweets[\"party\"]==\"Democrat\"]\n",
    "rep=congress_tweets[congress_tweets[\"party\"]==\"Republican\"]\n",
    "congress=congress_tweets[congress_tweets[\"position\"]==\"Rep\"]\n",
    "senate=congress_tweets[congress_tweets[\"position\"]==\"Sen\"]"
   ]
  },
  {
   "cell_type": "code",
   "execution_count": 7,
   "metadata": {},
   "outputs": [],
   "source": [
    "def wordcloud(dat):\n",
    "    \n",
    "    text = dat[\"tokens\"]\n",
    "     #Convert the list of tokens into a string and put a space between tokens\n",
    "    text = ' '.join(text.map(lambda text: ' '.join(text)))\n",
    "\n",
    "    #Feed string to worldcloud: use the generate method to create a worldcloud object\n",
    "    wordcloud = WordCloud().generate(text)\n",
    "\n",
    "    #Plot\n",
    "    plt.imshow(wordcloud, interpolation = 'bilinear')\n",
    "    plt.axis('off')\n",
    "    plt.show()   "
   ]
  },
  {
   "cell_type": "code",
   "execution_count": null,
   "metadata": {},
   "outputs": [],
   "source": [
    "#Democratic reps\n",
    "wordcloud(dem)"
   ]
  },
  {
   "cell_type": "code",
   "execution_count": null,
   "metadata": {},
   "outputs": [],
   "source": [
    "#Republican reps\n",
    "wordcloud(rep)"
   ]
  },
  {
   "cell_type": "code",
   "execution_count": null,
   "metadata": {},
   "outputs": [],
   "source": [
    "#Senators reps\n",
    "wordcloud(senate)"
   ]
  },
  {
   "cell_type": "code",
   "execution_count": null,
   "metadata": {},
   "outputs": [],
   "source": [
    "#Congresspeople reps\n",
    "wordcloud(congress)"
   ]
  },
  {
   "cell_type": "markdown",
   "metadata": {},
   "source": [
    "### EDA 2: Topic Modeling"
   ]
  },
  {
   "cell_type": "code",
   "execution_count": null,
   "metadata": {},
   "outputs": [],
   "source": [
    "#define function to print topics \n",
    "def print_top_words(model, feature_names, n_top_words):\n",
    "    for topic_idx, topic in enumerate(model.components_):\n",
    "        print(\"\\nTopic #{}:\".format(topic_idx))\n",
    "        print(\" \".join([feature_names[i]\n",
    "                        for i in topic.argsort()[:-n_top_words - 1:-1]]))\n",
    "    print()"
   ]
  },
  {
   "cell_type": "code",
   "execution_count": null,
   "metadata": {},
   "outputs": [],
   "source": [
    "# loop through each of the four categories and create five topic models for each\n",
    "cats = [congress_tweets,dem, rep, senate, congress]\n",
    "names = [\"All\",\"Democrats\", \"Republicans\", \"Senate\", \"Congress\"]\n",
    "for c,n in zip(cats,names): \n",
    "    X = c[\"text\"]\n",
    "    tf = TfidfVectorizer(tokenizer = rem_punc_stop)\n",
    "    tfidf_matrix =  tf.fit_transform(X)\n",
    "    dense_matrix = tfidf_matrix.todense()\n",
    "    lda = LatentDirichletAllocation(n_components=5, max_iter=20, random_state=0)\n",
    "    lda = lda.fit(dense_matrix)\n",
    "    tf_feature_names = tf.get_feature_names()\n",
    "    print(\"The topics for \" + n + \" are: \")\n",
    "    print_top_words(lda, tf_feature_names, 20)"
   ]
  },
  {
   "cell_type": "markdown",
   "metadata": {},
   "source": [
    "## Sentiment Analysis"
   ]
  },
  {
   "cell_type": "markdown",
   "metadata": {},
   "source": [
    "Next, let's analyze the sentiments contained within the tweets. You may use TextBlob or another library for these tasks. Do the following:\n",
    "\n",
    "* Choose two legislators, one who you think will be more liberal and one who you think will be more conservative, and analyze their sentiment and/or subjectivity scores per tweet. For instance, you might do two scatterplots that plot each legislator's sentiment against their subjectivity, or two density plots for their sentiments. Do the scores match what you thought?\n",
    "* Plot two more visualizations like the ones you chose in the first part, but do them to compare (1) Democrats v. Republicans and (2) Senators v. Representatives \n",
    "\n",
    "`TextBlob` has already been imported in the top cell."
   ]
  },
  {
   "cell_type": "markdown",
   "metadata": {},
   "source": [
    "### 1. Compare 2 senators:"
   ]
  },
  {
   "cell_type": "code",
   "execution_count": 8,
   "metadata": {},
   "outputs": [],
   "source": [
    "bernie_sanders = congress_tweets[congress_tweets[\"name_wikipedia\"]==\"Bernie Sanders\"]\n",
    "Nancy_Pelosi = congress_tweets[congress_tweets[\"name_wikipedia\"]==\"Nancy Pelosi\"]\n",
    "mitch_mcconnell = congress_tweets[congress_tweets[\"name_wikipedia\"]==\"Mitch McConnell\"]"
   ]
  },
  {
   "cell_type": "code",
   "execution_count": 9,
   "metadata": {},
   "outputs": [],
   "source": [
    "def sentiment(legislator):\n",
    "    legislator.loc[:,'tokens']= legislator.loc[:,'tokens'].map(lambda text: ' '.join(text))\n",
    "    legislator.loc[:,'polarity']= legislator.loc[:,'tokens'].map(lambda text: TextBlob(text).sentiment.polarity)\n",
    "    legislator.loc[:,'subjectivity']= legislator.loc[:,'tokens'].map(lambda text: TextBlob(text).sentiment.subjectivity)\n",
    "    return(legislator)\n",
    "\n",
    "def threeplots(dat):\n",
    "    fig, (ax1, ax2,ax3) = plt.subplots(ncols=3, sharey=False, figsize=(15,5))\n",
    "    sns.histplot(dat, x=\"polarity\", ax=ax1)\n",
    "    sns.histplot(dat, x=\"subjectivity\", ax=ax2)\n",
    "    sns.barplot(x=dat.subjectivity.round(2), y = 'polarity', data=dat, ax=ax3)\n",
    "    return fig"
   ]
  },
  {
   "cell_type": "code",
   "execution_count": 10,
   "metadata": {},
   "outputs": [
    {
     "name": "stderr",
     "output_type": "stream",
     "text": [
      "C:\\Users\\Public\\anaconda3\\lib\\site-packages\\pandas\\core\\indexing.py:966: SettingWithCopyWarning: \n",
      "A value is trying to be set on a copy of a slice from a DataFrame.\n",
      "Try using .loc[row_indexer,col_indexer] = value instead\n",
      "\n",
      "See the caveats in the documentation: https://pandas.pydata.org/pandas-docs/stable/user_guide/indexing.html#returning-a-view-versus-a-copy\n",
      "  self.obj[item] = s\n",
      "C:\\Users\\Public\\anaconda3\\lib\\site-packages\\pandas\\core\\indexing.py:845: SettingWithCopyWarning: \n",
      "A value is trying to be set on a copy of a slice from a DataFrame.\n",
      "Try using .loc[row_indexer,col_indexer] = value instead\n",
      "\n",
      "See the caveats in the documentation: https://pandas.pydata.org/pandas-docs/stable/user_guide/indexing.html#returning-a-view-versus-a-copy\n",
      "  self.obj[key] = _infer_fill_value(value)\n"
     ]
    }
   ],
   "source": [
    "bernie_sanders=sentiment(bernie_sanders)\n",
    "Nancy_Pelosi=sentiment(Nancy_Pelosi)\n",
    "mitch_mcconnell=sentiment(mitch_mcconnell)\n",
    "dem_sentiment=sentiment(dem)\n",
    "rep_sentiment=sentiment(rep)\n",
    "senate_sentiment=sentiment(senate)\n",
    "congress_sentiment=sentiment(congress)"
   ]
  },
  {
   "cell_type": "code",
   "execution_count": 21,
   "metadata": {},
   "outputs": [
    {
     "data": {
      "text/html": [
       "<div>\n",
       "<style scoped>\n",
       "    .dataframe tbody tr th:only-of-type {\n",
       "        vertical-align: middle;\n",
       "    }\n",
       "\n",
       "    .dataframe tbody tr th {\n",
       "        vertical-align: top;\n",
       "    }\n",
       "\n",
       "    .dataframe thead th {\n",
       "        text-align: right;\n",
       "    }\n",
       "</style>\n",
       "<table border=\"1\" class=\"dataframe\">\n",
       "  <thead>\n",
       "    <tr style=\"text-align: right;\">\n",
       "      <th></th>\n",
       "      <th>Democrats</th>\n",
       "      <th>Republicans</th>\n",
       "      <th>Senate</th>\n",
       "      <th>Congress</th>\n",
       "    </tr>\n",
       "  </thead>\n",
       "  <tbody>\n",
       "    <tr>\n",
       "      <th>polarity</th>\n",
       "      <td>0.103538</td>\n",
       "      <td>0.136544</td>\n",
       "      <td>0.123736</td>\n",
       "      <td>0.11259</td>\n",
       "    </tr>\n",
       "  </tbody>\n",
       "</table>\n",
       "</div>"
      ],
      "text/plain": [
       "          Democrats  Republicans    Senate  Congress\n",
       "polarity   0.103538     0.136544  0.123736   0.11259"
      ]
     },
     "execution_count": 21,
     "metadata": {},
     "output_type": "execute_result"
    }
   ],
   "source": [
    "polarity_mean = pd.DataFrame({\"Democrats\":dem_sentiment[[\"polarity\"]].mean(axis=0), \n",
    "                   \"Republicans\":rep_sentiment[[\"polarity\"]].mean(axis=0), \n",
    "                   \"Senate\":senate_sentiment[[\"polarity\"]].mean(axis=0), \n",
    "                   \"Congress\":congress_sentiment[[\"polarity\"]].mean(axis=0)})\n",
    "polarity_mean"
   ]
  },
  {
   "cell_type": "code",
   "execution_count": 20,
   "metadata": {},
   "outputs": [
    {
     "data": {
      "text/html": [
       "<div>\n",
       "<style scoped>\n",
       "    .dataframe tbody tr th:only-of-type {\n",
       "        vertical-align: middle;\n",
       "    }\n",
       "\n",
       "    .dataframe tbody tr th {\n",
       "        vertical-align: top;\n",
       "    }\n",
       "\n",
       "    .dataframe thead th {\n",
       "        text-align: right;\n",
       "    }\n",
       "</style>\n",
       "<table border=\"1\" class=\"dataframe\">\n",
       "  <thead>\n",
       "    <tr style=\"text-align: right;\">\n",
       "      <th></th>\n",
       "      <th>Democrats</th>\n",
       "      <th>Republicans</th>\n",
       "      <th>Senate</th>\n",
       "      <th>Congress</th>\n",
       "    </tr>\n",
       "  </thead>\n",
       "  <tbody>\n",
       "    <tr>\n",
       "      <th>subjectivity</th>\n",
       "      <td>0.398011</td>\n",
       "      <td>0.392265</td>\n",
       "      <td>0.406197</td>\n",
       "      <td>0.393012</td>\n",
       "    </tr>\n",
       "  </tbody>\n",
       "</table>\n",
       "</div>"
      ],
      "text/plain": [
       "              Democrats  Republicans    Senate  Congress\n",
       "subjectivity   0.398011     0.392265  0.406197  0.393012"
      ]
     },
     "execution_count": 20,
     "metadata": {},
     "output_type": "execute_result"
    }
   ],
   "source": [
    "subjectivity_mean = pd.DataFrame({\"Democrats\":dem_sentiment[[\"subjectivity\"]].mean(axis=0), \n",
    "                   \"Republicans\":rep_sentiment[[\"subjectivity\"]].mean(axis=0), \n",
    "                   \"Senate\":senate_sentiment[[\"subjectivity\"]].mean(axis=0), \n",
    "                   \"Congress\":congress_sentiment[[\"subjectivity\"]].mean(axis=0)})\n",
    "subjectivity_mean"
   ]
  },
  {
   "cell_type": "markdown",
   "metadata": {},
   "source": [
    "#### Bernie Sanders"
   ]
  },
  {
   "cell_type": "code",
   "execution_count": null,
   "metadata": {},
   "outputs": [],
   "source": [
    "threeplots(bernie_sanders).show()"
   ]
  },
  {
   "cell_type": "markdown",
   "metadata": {},
   "source": [
    "#### Mitch McConnell"
   ]
  },
  {
   "cell_type": "code",
   "execution_count": null,
   "metadata": {},
   "outputs": [],
   "source": [
    "threeplots(mitch_mcconnell).show()"
   ]
  },
  {
   "cell_type": "markdown",
   "metadata": {},
   "source": [
    "### 2. compare Democrats vs. Republicans "
   ]
  },
  {
   "cell_type": "markdown",
   "metadata": {},
   "source": [
    "#### Democrats"
   ]
  },
  {
   "cell_type": "code",
   "execution_count": null,
   "metadata": {},
   "outputs": [],
   "source": [
    "threeplots(dem_sentiment).show()"
   ]
  },
  {
   "cell_type": "markdown",
   "metadata": {},
   "source": [
    "#### Republicans"
   ]
  },
  {
   "cell_type": "code",
   "execution_count": null,
   "metadata": {},
   "outputs": [],
   "source": [
    "threeplots(rep_sentiment).show()"
   ]
  },
  {
   "cell_type": "markdown",
   "metadata": {},
   "source": [
    "### 3. Compare Senators to Congresspeople"
   ]
  },
  {
   "cell_type": "markdown",
   "metadata": {},
   "source": [
    "#### Senators"
   ]
  },
  {
   "cell_type": "code",
   "execution_count": null,
   "metadata": {},
   "outputs": [],
   "source": [
    "threeplots(senate_sentiment).show()"
   ]
  },
  {
   "cell_type": "markdown",
   "metadata": {},
   "source": [
    "#### Congresspeople"
   ]
  },
  {
   "cell_type": "code",
   "execution_count": null,
   "metadata": {},
   "outputs": [],
   "source": [
    "threeplots(congress_sentiment).show()"
   ]
  },
  {
   "cell_type": "markdown",
   "metadata": {},
   "source": [
    "## Featurization"
   ]
  },
  {
   "cell_type": "markdown",
   "metadata": {},
   "source": [
    "Before going to classification, explore different featurization techniques. Create three dataframes or arrays to represent your text features, specifically:\n",
    "\n",
    "* Features engineered from your previous analysis. For example, word counts, sentiment scores, topic model etc.\n",
    "* A term frequency-inverse document frequency matrix. \n",
    "* An embedding-based featurization (like a document averaged word2vec)\n",
    "\n",
    "In the next section, you will experiment with each of these featurization techniques to see which one produces the best classifications."
   ]
  },
  {
   "cell_type": "code",
   "execution_count": null,
   "metadata": {},
   "outputs": [],
   "source": [
    "#I had to make another column for 'tokens_string' so the polarity and subjectivity features would work as well as TF-idf. \n",
    "#The embedding-based featurization uses the original 'tokens'\n",
    "#I don't really understand why this is so maybe this is something we can discuss\n",
    "congress_tweets['tokens_string'] = congress_tweets['tokens'].map(lambda text: ' '.join(text))\n",
    "congress_tweets['polarity'] = congress_tweets['tokens_string'].map(lambda text: TextBlob(text).sentiment.polarity)\n",
    "congress_tweets['subjectivity'] = congress_tweets['tokens_string'].map(lambda text: TextBlob(text).sentiment.subjectivity)"
   ]
  },
  {
   "cell_type": "code",
   "execution_count": null,
   "metadata": {
    "scrolled": false
   },
   "outputs": [],
   "source": [
    "congress_tweets.columns"
   ]
  },
  {
   "cell_type": "code",
   "execution_count": null,
   "metadata": {
    "scrolled": false
   },
   "outputs": [],
   "source": [
    "congress_tweets.head()"
   ]
  },
  {
   "cell_type": "markdown",
   "metadata": {},
   "source": [
    "### Engineered Text Features"
   ]
  },
  {
   "cell_type": "code",
   "execution_count": null,
   "metadata": {},
   "outputs": [],
   "source": [
    "# Engineered Features, I think we only did polarity and subjectivity during EDA but can add in the other EDA feature Kelly does later\n",
    "engineered_features = congress_tweets[['polarity', 'subjectivity']].reset_index(drop = True)"
   ]
  },
  {
   "cell_type": "code",
   "execution_count": null,
   "metadata": {},
   "outputs": [],
   "source": [
    "engineered_features.head()"
   ]
  },
  {
   "cell_type": "markdown",
   "metadata": {},
   "source": [
    "### Bag-of-words or Tf-idf"
   ]
  },
  {
   "cell_type": "code",
   "execution_count": null,
   "metadata": {},
   "outputs": [],
   "source": [
    "# Frequency Based featurization (TF-idf)\n",
    "X = congress_tweets['tokens_string'] #I'm not sure if I'm supposed to use 'text' or 'tokens' here because doesn't the next line tokenize for us? I may be completely misunderstanding lol\n",
    "tf = TfidfVectorizer(tokenizer = rem_punc_stop)\n",
    "\n",
    "tfidf_matrix =  tf.fit_transform(X)\n",
    "dense_matrix = tfidf_matrix.todense()\n",
    "tfidf_df = pd.DataFrame(tfidf_matrix.todense(), columns = tf.get_feature_names())"
   ]
  },
  {
   "cell_type": "code",
   "execution_count": null,
   "metadata": {},
   "outputs": [],
   "source": [
    "tfidf_df.head()"
   ]
  },
  {
   "cell_type": "markdown",
   "metadata": {},
   "source": [
    "### Word Embedding"
   ]
  },
  {
   "cell_type": "code",
   "execution_count": null,
   "metadata": {},
   "outputs": [],
   "source": [
    "model = gensim.models.Word2Vec(congress_tweets['tokens'], size=100, window=5, \\\n",
    "                               min_count=5, sg=0, alpha=0.025, iter=5, batch_words=10000)"
   ]
  },
  {
   "cell_type": "code",
   "execution_count": null,
   "metadata": {
    "scrolled": false
   },
   "outputs": [],
   "source": [
    "#just wanted to test out what the output from the model looks like\n",
    "model['american']"
   ]
  },
  {
   "cell_type": "code",
   "execution_count": null,
   "metadata": {
    "scrolled": true
   },
   "outputs": [],
   "source": [
    "#also just wanted to see what the first 100 words are in our vocabulary\n",
    "words = list(model.wv.vocab)\n",
    "print(words[0:100])"
   ]
  },
  {
   "cell_type": "code",
   "execution_count": null,
   "metadata": {},
   "outputs": [],
   "source": [
    "#I'm not sure how useful (and how much more work) it will be to add the model from Google, so I skipped this step since it's optional. :) \n",
    "\n",
    "# Load Word2Vec model from Google; OPTIONAL depending on your computational resources (the file is ~1 GB)\n",
    "# Also note that this file path assumes that the word vectors are underneath 'data'; you may wish to point to the CSS course repo and change the path\n",
    "# or move the vector file to the project repo \n",
    "\n",
    "#google_model = gensim.models.KeyedVectors.load_word2vec_format('data/GoogleNews-vectors-negative300.bin.gz', binary = True) "
   ]
  },
  {
   "cell_type": "code",
   "execution_count": null,
   "metadata": {},
   "outputs": [],
   "source": [
    "# Function to average word embeddings for a document; use examples from lab to apply this function. You can use also other techniques such as PCA and doc2vec instead.\n",
    "def document_vector(word2vec_model, doc):\n",
    "    doc = [word for word in doc if word in model.wv.vocab]\n",
    "    return np.mean(word2vec_model.wv.__getitem__(doc), axis=0)"
   ]
  },
  {
   "cell_type": "code",
   "execution_count": null,
   "metadata": {},
   "outputs": [],
   "source": [
    "# embedding based featurization\n",
    "\n",
    "#THIS IS WHERE I'M STUCK! If I used 'congress_tweets['tokens'], I keep getting an error about missing an array to concatenate.\n",
    "#But if I use 'congress_tweets['text']' the code runs and spits out an array. I DON'T GET IT! \n",
    "\n",
    "# Initialize an array for the size of the corpus\n",
    "empty_list_embeddings_means = []\n",
    "for doc in congress_tweets['text']: # append the vector for each document\n",
    "    empty_list_embeddings_means.append(document_vector(model, doc))\n",
    "    \n",
    "doc_average_embeddings = np.array(empty_list_embeddings_means) # list to array"
   ]
  },
  {
   "cell_type": "code",
   "execution_count": null,
   "metadata": {},
   "outputs": [],
   "source": [
    "doc_average_embeddings"
   ]
  },
  {
   "cell_type": "code",
   "execution_count": null,
   "metadata": {},
   "outputs": [],
   "source": [
    "word2vec_features_df = pd.DataFrame(doc_average_embeddings)"
   ]
  },
  {
   "cell_type": "code",
   "execution_count": null,
   "metadata": {
    "scrolled": true
   },
   "outputs": [],
   "source": [
    "word2vec_features_df"
   ]
  },
  {
   "cell_type": "markdown",
   "metadata": {},
   "source": [
    "## Classification"
   ]
  },
  {
   "cell_type": "markdown",
   "metadata": {},
   "source": [
    "Either use cross-validation or partition your data with training/validation/test sets for this section. Do the following:\n",
    "\n",
    "* Choose a supervised learning algorithm such as logistic regression, random forest etc. \n",
    "* Train six models. For each of the three dataframes you created in the featurization part, train one model to predict whether the author of the tweet is a Democrat or Republican, and a second model to predict whether the author is a Senator or Representative.\n",
    "* Report the accuracy and other relevant metrics for each of these six models.\n",
    "* Choose the featurization technique associated with your best model. Combine those text features with non-text features. Train two more models: (1) A supervised learning algorithm that uses just the non-text features and (2) a supervised learning algorithm that combines text and non-text features. Report accuracy and other relevant metrics. \n",
    "\n",
    "If time permits, you are encouraged to use hyperparameter tuning or AutoML techniques like TPOT, but are not explicitly required to do so."
   ]
  },
  {
   "cell_type": "markdown",
   "metadata": {},
   "source": [
    "### Train Six Models with Just Text"
   ]
  },
  {
   "cell_type": "code",
   "execution_count": null,
   "metadata": {},
   "outputs": [],
   "source": [
    "# six models ([engineered features, frequency-based, embedding] * [democrat/republican, senator/representative])\n",
    "..."
   ]
  },
  {
   "cell_type": "markdown",
   "metadata": {},
   "source": [
    "### Two Combined Models"
   ]
  },
  {
   "cell_type": "code",
   "execution_count": null,
   "metadata": {},
   "outputs": [],
   "source": [
    "# two models ([best text features + non-text features] * [democrat/republican, senator/representative])\n",
    "..."
   ]
  },
  {
   "cell_type": "markdown",
   "metadata": {},
   "source": [
    "## Discussion Questions"
   ]
  },
  {
   "cell_type": "markdown",
   "metadata": {},
   "source": [
    "1. Why do standard preprocessing techniques need to be further customized to a particular corpus?"
   ]
  },
  {
   "cell_type": "markdown",
   "metadata": {},
   "source": [
    "**Your Answer Here**"
   ]
  },
  {
   "cell_type": "markdown",
   "metadata": {},
   "source": [
    "2. Did you find evidence for the idea that Democrats and Republicans have different sentiments in their tweets? What about Senators and Representatives?"
   ]
  },
  {
   "cell_type": "markdown",
   "metadata": {},
   "source": [
    "**Your Answer Here**"
   ]
  },
  {
   "cell_type": "markdown",
   "metadata": {},
   "source": [
    "3. Why is validating your exploratory and unsupervised learning approaches with a supervised learning algorithm valuable?"
   ]
  },
  {
   "cell_type": "markdown",
   "metadata": {},
   "source": [
    "**Your Answer Here**"
   ]
  },
  {
   "cell_type": "markdown",
   "metadata": {},
   "source": [
    "4. Did text only, non-text only, or text and non-text features together perform the best? What is the intuition behind combining text and non-text features in a supervised learning algorithm?"
   ]
  },
  {
   "cell_type": "markdown",
   "metadata": {},
   "source": [
    "**Your Answer Here**"
   ]
  }
 ],
 "metadata": {
  "kernelspec": {
   "display_name": "Python 3",
   "language": "python",
   "name": "python3"
  },
  "language_info": {
   "codemirror_mode": {
    "name": "ipython",
    "version": 3
   },
   "file_extension": ".py",
   "mimetype": "text/x-python",
   "name": "python",
   "nbconvert_exporter": "python",
   "pygments_lexer": "ipython3",
   "version": "3.8.3"
  }
 },
 "nbformat": 4,
 "nbformat_minor": 4
}
